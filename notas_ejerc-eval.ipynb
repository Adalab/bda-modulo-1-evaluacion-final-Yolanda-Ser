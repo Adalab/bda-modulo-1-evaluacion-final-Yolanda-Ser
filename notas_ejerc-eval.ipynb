{
 "cells": [
  {
   "cell_type": "code",
   "execution_count": null,
   "metadata": {},
   "outputs": [],
   "source": [
    "class Producto:                                                         # Estructura de la clase con sus atributos. CONSTRUCTOR\n",
    "    def __init__(self, nombre, precio, cantidad):                       # Esta clase es la que maneja los productos \n",
    "        self.nombre = nombre\n",
    "        self.precio = precio\n",
    "        self.cantidad = cantidad\n",
    "\n",
    "\n",
    "\n",
    "class TiendaOnline:\n",
    "    def __init__(self):\n",
    "        self.inventario = []                                          #  Esta clase es la que tiene el inventario\n",
    "        \n",
    "    \n",
    "    def agregar_producto(self, nombre, precio, cantidad):\n",
    "        nuevo_producto = {\"nombre\" : nombre, \"precio\": precio, \"cantidad\" : cantidad}\n",
    "        \n",
    "        for producto in self.inventario:\n",
    "            if producto['nombre'] == nombre:\n",
    "                producto['cantidad'] += cantidad\n",
    "            else:\n",
    "                self.inventario.append(nuevo_producto)\n",
    "\n",
    "    def ver_inventario(self):\n",
    "        for producto in self.inventario:\n",
    "           print(f\"nombre: {producto['nombre']}, Precio: {producto['precio']}, Cantidad: {producto['cantidad']}\")"
   ]
  },
  {
   "cell_type": "code",
   "execution_count": 112,
   "metadata": {},
   "outputs": [
    {
     "ename": "IndentationError",
     "evalue": "unexpected indent (858502715.py, line 17)",
     "output_type": "error",
     "traceback": [
      "\u001b[1;36m  Cell \u001b[1;32mIn[112], line 17\u001b[1;36m\u001b[0m\n\u001b[1;33m    def ver_inventario(self):\u001b[0m\n\u001b[1;37m    ^\u001b[0m\n\u001b[1;31mIndentationError\u001b[0m\u001b[1;31m:\u001b[0m unexpected indent\n"
     ]
    }
   ],
   "source": [
    "#Comprobación añadiendo los 4  produtos\n",
    "\n",
    "class Producto:\n",
    "        def __init__(self, nombre, precio, cantidad):\n",
    "             self.nombre = nombre\n",
    "             self.precio = precio\n",
    "             self.cantidad = cantidad\n",
    "\n",
    "        def agregar_producto(self, nombre, precio, cantidad):\n",
    "             nuevo_producto = {\"nombre\" : nombre, \"precio\": precio, \"cantidad\" : cantidad}\n",
    "\n",
    "producto1 = Producto(\"Camisa\", 20, 40)\n",
    "producto2 = Producto(\"Pantalon\", 30, 30)     \n",
    "producto3 = Producto(\"Zapatos\", 50, 40)\n",
    "producto4 = Producto(\"Camisa\", 20, 50)\n",
    "\n",
    "        def ver_inventario(self):\n",
    "             for producto in self.inventario:\n",
    "                  if producto['nombre'] == nombre:\n",
    "                       producto['cantidad'] += cantidad\n",
    "             else:\n",
    "                   self.inventario.append()\n",
    "\n",
    "        def buscar_producto(self, nombre):\n",
    "            for producto in self.inventario:\n",
    "                    if producto['nombre'] == nombre:\n",
    "                          print(f\"Nombre: {producto['nombre']}, Precio: {producto['precio']}, Cantidad: {producto['cantidad']}\")\n",
    "                          return\n",
    "        print(f\"Producto '{nombre}' no encontrado en el inventario.\")\n",
    "\n",
    "\n",
    "\n"
   ]
  },
  {
   "cell_type": "code",
   "execution_count": 114,
   "metadata": {},
   "outputs": [
    {
     "ename": "IndentationError",
     "evalue": "unindent does not match any outer indentation level (<tokenize>, line 11)",
     "output_type": "error",
     "traceback": [
      "\u001b[1;36m  File \u001b[1;32m<tokenize>:11\u001b[1;36m\u001b[0m\n\u001b[1;33m    else:\u001b[0m\n\u001b[1;37m    ^\u001b[0m\n\u001b[1;31mIndentationError\u001b[0m\u001b[1;31m:\u001b[0m unindent does not match any outer indentation level\n"
     ]
    }
   ],
   "source": [
    "class Producto:\n",
    "        def __init__(self, nombre, precio, cantidad):\n",
    "             self.nombre = nombre\n",
    "             self.precio = precio\n",
    "             self.cantidad = cantidad\n",
    "\n",
    "        def ver_inventario(self):                                                 #  printear todos los productos en una lista de diccionarios\n",
    "              for producto in self.inventario:\n",
    "                   print(f\"nombre: {producto['nombre']}, Precio: {producto['precio']}, Cantidad: {producto['cantidad']}\")\n",
    "\n",
    "\n",
    "\n",
    "        def buscar_producto(self, nombre):\n",
    "            for producto in self.inventario:\n",
    "                if producto['nombre'] == nombre:\n",
    "                print(f\"Nombre: {producto['nombre']}, Precio: {producto['precio']}, Cantidad: {producto['cantidad']}\")\n",
    "                return\n",
    "        print(f\"Producto {\"nombre\"}' no encontrado en el inventario.\")\n",
    "\n",
    "\n",
    "\n",
    "\n",
    "\n",
    "\n",
    "    def agregar_producto(self, inventario):\n",
    "        tienda = TiendaOnline()\n",
    "        producto1 = TiendaOnline({\"nombre\": \"Camisa\", \"precio\": 20, \"cantidad\": 40})\n",
    "        producto2 = TiendaOnline({\"nombre\": \"Pantalon\", \"precio\": 30, \"cantidad\": 30})     \n",
    "        producto3 = TiendaOnline({\"nombre\": \"Zapatos\", \"precio\": 50, \"cantidad\": 40})\n",
    "        producto4 =TiendaOnline({\"nombre\": \"Camisa\", \"precio\": 20, \"cantidad\": 50})\n",
    "        for producto in self.inventario:\n",
    "            if producto['nombre'] == nombre:\n",
    "                producto['cantidad'] += cantidad\n",
    "                self.inventario.append({'nombre': nombre, 'precio': precio, 'cantidad': cantidad})\n",
    "\n",
    "\n",
    "\n",
    "    producto1 = TiendaOnline({\"nombre\": \"Camisa\", \"precio\": 20, \"cantidad\": 40})\n",
    "    producto2 = TiendaOnline({\"nombre\": \"Pantalon\", \"precio\": 30, \"cantidad\": 30})     \n",
    "    producto3 = TiendaOnline({\"nombre\": \"Zapatos\", \"precio\": 50, \"cantidad\": 40})\n",
    "    producto4 =TiendaOnline({\"nombre\": \"Camisa\", \"precio\": 20, \"cantidad\": 50})\n"
   ]
  },
  {
   "cell_type": "markdown",
   "metadata": {},
   "source": [
    "type(producto1)\n",
    "type(producto2)"
   ]
  },
  {
   "cell_type": "markdown",
   "metadata": {},
   "source": [
    "# agregar producto\n",
    "\n",
    "nuevo_producto = {\"nombre\": nombre, \"precio\": precio, \"cantidad\": cantidad}\n",
    "\n",
    "self.inventario.append(self.inventario)\n",
    "\n",
    "class TiendaOnline:\n",
    "                       \n",
    "    def __init__(self):\n",
    "        self.inventario = []\n",
    "        self.clientes = {}\n",
    "        self.ventas_totales = 0.0\n",
    "\n",
    "\n",
    "    def agregar_producto(self, nombre, precio, cantidad):   # Este método recibe nombre, precio, cantidad, con parámetros y agrega producto al inventario o actualiza su cantidad si existe \n",
    "        for producto in self.inventario:\n",
    "                if producto[\"nombre\"] == nombre:\n",
    "                     producto[\"cantidad\"] += cantidad       # Como el producto existe, se añade la cantidad \n",
    "                     print(nombre) \"ya existe, con lo que actualizamos\", \n",
    "                return\n",
    "                                                            # Como el producto no existe, se añade el nuevo producto con sus parametros       \n",
    "print(\"cantidad\")\n"
   ]
  },
  {
   "cell_type": "markdown",
   "metadata": {},
   "source": [
    "# Ejercicio 2_ # Ejercicio 2_ `ver_inventario(self)`: Muestra el inventario de productos con sus detalles\n",
    "\n",
    "class TiendaOnline:\n",
    "    def __init__(self):\n",
    "        self.inventario = []\n",
    "        self.clientes = {}\n",
    "        self.ventas_totales = 0.0\n",
    "\n",
    " \n",
    "inventario = {\"nombre\": \"Camisa\", \"precio\": 20, \"cantidad\": 50}, {\"nombre\": \"Pantalón\", \"precio\": 30, \"cantidad\": 30}, {\"nombre\": \"Zapatos\", \"precio\": 50, \"cantidad\": 40}, {\"nombre\": \"Camisa\", \"precio\": 20, \"cantidad\": 50}\n",
    "\n",
    "def ver_inventario(self,nombre, precio, cantidad):\n",
    "     for producto in self.inventario:                        #Se imprime el inventario \n",
    "            print(f\"Nombre: {producto[\"nombre\"]}, Precio: {producto[\"precio\"]}, Cantidad: {producto[\"cantidad\"]}\")\n",
    "            \n",
    "\n",
    "    \n",
    "### ERRORRRRRR"
   ]
  },
  {
   "cell_type": "markdown",
   "metadata": {},
   "source": [
    "# otra vez....   pero me da error xq no se indetation esta mal colocado \n",
    "\n",
    "class TiendaOnline:\n",
    "    def __init__(self):\n",
    "        self.inventario = []\n",
    "        self.clientes = {}\n",
    "        self.ventas_totales = 0.0\n",
    "\n",
    "inventario = {\"nombre\": \"Camisa\", \"precio\": 20, \"cantidad\": 50}, {\"nombre\": \"Pantalón\", \"precio\": 30, \"cantidad\": 30}, {\"nombre\": \"Zapatos\", \"precio\": 50, \"cantidad\": 40}, {\"nombre\": \"Camisa\", \"precio\": 20, \"cantidad\": 50}\n",
    "    \n",
    "    def ver_inventario(self,nombre, precio, cantidad):\n",
    "        for producto in self.inventario:                        #Se imprime el inventario   \n",
    "            print(f\"Nombre: {producto[\"nombre\"]}, Precio: {producto[\"precio\"]}, Cantidad: {producto[\"cantidad\"]}\")"
   ]
  },
  {
   "cell_type": "markdown",
   "metadata": {},
   "source": [
    "# NO ENTIENDO PERO SI LO AÑADO COMO METODO, NO DA ERROR.... EL VER INVENTARIO. ASI QUE CONTINUO \n",
    "\n",
    "\n",
    "\n",
    "class TiendaOnline:\n",
    "    def __init__(self):\n",
    "        self.inventario = []\n",
    "        self.clientes = {}\n",
    "        self.ventas_totales = 0.0\n",
    "\n",
    "    def agregar_producto(self, nombre, precio, cantidad):\n",
    "        # Buscar si el producto ya existe en el inventario\n",
    "        for producto in self.inventario:\n",
    "            if producto['nombre'] == nombre:\n",
    "                # Si el producto ya existe, actualizar la cantidad\n",
    "                producto['cantidad'] += cantidad\n",
    "                return\n",
    "\n",
    "        # Si el producto no existe, agregar uno nuevo al inventario\n",
    "        nuevo_producto = {\n",
    "            'nombre': nombre,\n",
    "            'precio': precio,\n",
    "            'cantidad': cantidad\n",
    "        }\n",
    "        self.inventario.append(nuevo_producto)\n",
    "\n"
   ]
  },
  {
   "cell_type": "markdown",
   "metadata": {},
   "source": [
    "\n",
    "# 3. buscar producto  Nombre: Camisa, Precio: $20, Cantidad: 40\n",
    "\n",
    "\n",
    "    def buscar_producto(self,nombre):\n",
    "        for \"Camisa\" in self.inventario:\n",
    "            print(nombre)\n",
    "\n",
    " "
   ]
  },
  {
   "cell_type": "markdown",
   "metadata": {},
   "source": [
    "\n",
    "\n",
    "    def agregar_cliente(self, id_cliente, nombre, email):\n",
    "\n",
    "        if id_cliente in self.clientes:\n",
    "\n",
    "            print(f\"El cliente {id_cliente} ya existe\")\n",
    "\n",
    "        else:\n",
    "            nuevo_cliente= {id_cliente: [nombre, email]}"
   ]
  },
  {
   "cell_type": "markdown",
   "metadata": {},
   "source": [
    "def actualizar_stock(self, nombre, cantidad):\n",
    "        \n",
    "         \n",
    "        for producto in self.inventario:     # pasarlo a todo a minusculas\n",
    "            if producto[\"nombre\"].lower() == nombre.lower():\n",
    "                producto[\"cantidad\"] += cantidad     \n",
    "                if producto[\"cantidad\"] < 0:\n",
    "                    producto[\"cantidad\"] = 0\n",
    "                print(f\"Stock del producto \"{producto[\"nombre\"]}\" actualizado. Nueva cantidad: {producto[\"cantidad\"]}\")\n",
    "                return\n",
    "\n",
    "        print(f\"El producto \"{nombre}' no está\")"
   ]
  },
  {
   "cell_type": "markdown",
   "metadata": {},
   "source": [
    "\n",
    "        6. `calcular_valor_inventario(self)`: Calcula y muestra el valor total del inventario.\n",
    "\n",
    "            - Utiliza un bucle for para calcular el valor total del inventario.\n",
    "\n",
    "            - Itera a través del inventario y suma el valor de cada producto (precio x cantidad). Es decir, calcula el valor total del inventario. Ejemplo:\n",
    "\n",
    "                ```python\n",
    "                # si tenemos 5 camisas que valen 5 euros \n",
    "                # y 10 calcetines que valen 1 euro\n",
    "                # este método te tiene que devolver: 35 euros\n",
    "\n",
    "                valor_camisas = 5 * 5\n",
    "                valor_calcetines = 10 * 1\n",
    "\n",
    "                valor_camisas + valor_calcetines = 35"
   ]
  }
 ],
 "metadata": {
  "kernelspec": {
   "display_name": "Python 3",
   "language": "python",
   "name": "python3"
  },
  "language_info": {
   "codemirror_mode": {
    "name": "ipython",
    "version": 3
   },
   "file_extension": ".py",
   "mimetype": "text/x-python",
   "name": "python",
   "nbconvert_exporter": "python",
   "pygments_lexer": "ipython3",
   "version": "3.11.9"
  }
 },
 "nbformat": 4,
 "nbformat_minor": 2
}
