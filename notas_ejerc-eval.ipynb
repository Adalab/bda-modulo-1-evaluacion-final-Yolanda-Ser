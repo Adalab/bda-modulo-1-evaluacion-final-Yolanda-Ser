{
 "cells": [
  {
   "cell_type": "code",
   "execution_count": 95,
   "metadata": {},
   "outputs": [
    {
     "ename": "IndentationError",
     "evalue": "unexpected indent (1300692466.py, line 30)",
     "output_type": "error",
     "traceback": [
      "\u001b[1;36m  Cell \u001b[1;32mIn[95], line 30\u001b[1;36m\u001b[0m\n\u001b[1;33m    def ver_inventario(self,nombre, precio, cantidad):\u001b[0m\n\u001b[1;37m    ^\u001b[0m\n\u001b[1;31mIndentationError\u001b[0m\u001b[1;31m:\u001b[0m unexpected indent\n"
     ]
    }
   ],
   "source": [
    "class TiendaOnline:\n",
    "\n",
    "    def __init__(self):\n",
    "        self.inventario = []\n",
    "        self.clientes = {}\n",
    "        self.ventas_totales = 0.0\n",
    "\n",
    "# ejercicio 1_agregar_producto(self, nombre, precio, cantidad)UAL ES EL NOMBRE PARA AGREGAR ?????????  \n",
    "\n",
    "    def agregar_producto(self, nombre, precio, cantidad):   # Este método recibe nombre, precio, cantidad, con parámetros y agrega producto al inventario o actualiza su cantidad si existe \n",
    "        for producto in self.inventario:\n",
    "                if producto[\"nombre\"] == nombre:\n",
    "                     producto[\"cantidad\"] += cantidad       # Como el producto existe, se añade la cantidad \n",
    "                     print({nombre}, \"ya existe, con lo que actualizamos\", {cantidad})\n",
    "                return\n",
    "        \n",
    "        nuevo_producto = {\"nombre\": nombre, \"precio\": precio, \"cantidad\": cantidad}\n",
    "        self.inventario.append(nuevo_producto)              # Como el producto no existe, se añade el nuevo producto con sus parametros\n",
    "        print(cantidad)\n",
    "\n",
    "\n",
    "\n",
    "\n",
    "# Ejercicio 2_ `ver_inventario(self)`: Muestra el inventario de productos con sus detalles. ERRORRRRR Y FALTA HACERLO CON UN NOMBRE PARA ACTUALIZAR O AGREGAR UNO NUEVO \n",
    "    \n",
    "    def ver_inventario(self):        \n",
    "         for producto in self.inventario:                        #Se imprime el inventario   \n",
    "            print(f\"Nombre: {producto[\"nombre\"]}, Precio: {producto[\"precio\"]}, Cantidad: {producto[\"cantidad\"]}\")\n",
    "\n",
    "\n",
    "    \n",
    "# Ejercicio 3_ BUSCAR PRODUCTO - MUESTRA :  Nombre: Camisa, Precio: $20, Cantidad: 40\n",
    "    def buscar_producto(self,nombre):\n",
    "        for producto in self.inventario:\n",
    "            print(nombre)\n",
    "\n",
    "# Ejercicio 4_ ACTUALIZAR STOCK\n",
    "\n",
    "def actualizar_stock(self, nombre, cantidad):      # Buscar el producto en el inventario por su nombre\n",
    "        \n",
    "        for producto in self.inventario:\n",
    "            if producto[\"nombre\"].lower() == nombre.lower():\n",
    "                producto[\"cantidad\"] += cantidad\n",
    "                if producto[\"cantidad\"] < 0:\n",
    "                    producto[\"cantidad\"] = 0\n",
    "                print(f\"Stock del producto \"{producto[\"nombre\"]}\" actualizadp con  {producto[cantidad]}cantidades\")\n",
    "                return\n",
    "\n",
    "# 5.- directamente en el original\n",
    "#  6. `calcular_valor_inventario(self)`:PENDIENTE \n",
    "#  \n"
   ]
  },
  {
   "cell_type": "code",
   "execution_count": 112,
   "metadata": {},
   "outputs": [
    {
     "ename": "SyntaxError",
     "evalue": "invalid syntax (3282700852.py, line 19)",
     "output_type": "error",
     "traceback": [
      "\u001b[1;36m  Cell \u001b[1;32mIn[112], line 19\u001b[1;36m\u001b[0m\n\u001b[1;33m    print(nombre) \"ya existe, con lo que actualizamos\",\u001b[0m\n\u001b[1;37m                  ^\u001b[0m\n\u001b[1;31mSyntaxError\u001b[0m\u001b[1;31m:\u001b[0m invalid syntax\n"
     ]
    }
   ],
   "source": [
    "# agregar producto\n",
    "\n",
    "nuevo_producto = {\"nombre\": nombre, \"precio\": precio, \"cantidad\": cantidad}\n",
    "\n",
    "self.inventario.append(self.inventario)\n",
    "\n",
    "class TiendaOnline:\n",
    "                       \n",
    "    def __init__(self):\n",
    "        self.inventario = []\n",
    "        self.clientes = {}\n",
    "        self.ventas_totales = 0.0\n",
    "\n",
    "\n",
    "    def agregar_producto(self, nombre, precio, cantidad):   # Este método recibe nombre, precio, cantidad, con parámetros y agrega producto al inventario o actualiza su cantidad si existe \n",
    "        for producto in self.inventario:\n",
    "                if producto[\"nombre\"] == nombre:\n",
    "                     producto[\"cantidad\"] += cantidad       # Como el producto existe, se añade la cantidad \n",
    "                     print(nombre) \"ya existe, con lo que actualizamos\", \n",
    "                return\n",
    "                                                            # Como el producto no existe, se añade el nuevo producto con sus parametros       \n",
    "print(\"cantidad\")\n"
   ]
  },
  {
   "cell_type": "code",
   "execution_count": 86,
   "metadata": {},
   "outputs": [
    {
     "ename": "SyntaxError",
     "evalue": "f-string: unmatched '[' (1397824095.py, line 14)",
     "output_type": "error",
     "traceback": [
      "\u001b[1;36m  Cell \u001b[1;32mIn[86], line 14\u001b[1;36m\u001b[0m\n\u001b[1;33m    print(f\"Nombre: {producto[\"nombre\"]}, Precio: {producto[\"precio\"]}, Cantidad: {producto[\"cantidad\"]}\")\u001b[0m\n\u001b[1;37m                               ^\u001b[0m\n\u001b[1;31mSyntaxError\u001b[0m\u001b[1;31m:\u001b[0m f-string: unmatched '['\n"
     ]
    }
   ],
   "source": [
    "# Ejercicio 2_ # Ejercicio 2_ `ver_inventario(self)`: Muestra el inventario de productos con sus detalles\n",
    "\n",
    "class TiendaOnline:\n",
    "    def __init__(self):\n",
    "        self.inventario = []\n",
    "        self.clientes = {}\n",
    "        self.ventas_totales = 0.0\n",
    "\n",
    " \n",
    "inventario = {\"nombre\": \"Camisa\", \"precio\": 20, \"cantidad\": 50}, {\"nombre\": \"Pantalón\", \"precio\": 30, \"cantidad\": 30}, {\"nombre\": \"Zapatos\", \"precio\": 50, \"cantidad\": 40}, {\"nombre\": \"Camisa\", \"precio\": 20, \"cantidad\": 50}\n",
    "\n",
    "def ver_inventario(self,nombre, precio, cantidad):\n",
    "     for producto in self.inventario:                        #Se imprime el inventario \n",
    "            print(f\"Nombre: {producto[\"nombre\"]}, Precio: {producto[\"precio\"]}, Cantidad: {producto[\"cantidad\"]}\")\n",
    "            \n",
    "\n",
    "    \n",
    "### ERRORRRRRR"
   ]
  },
  {
   "cell_type": "code",
   "execution_count": 91,
   "metadata": {},
   "outputs": [
    {
     "ename": "IndentationError",
     "evalue": "unexpected indent (2015680591.py, line 11)",
     "output_type": "error",
     "traceback": [
      "\u001b[1;36m  Cell \u001b[1;32mIn[91], line 11\u001b[1;36m\u001b[0m\n\u001b[1;33m    def ver_inventario(self,nombre, precio, cantidad):\u001b[0m\n\u001b[1;37m    ^\u001b[0m\n\u001b[1;31mIndentationError\u001b[0m\u001b[1;31m:\u001b[0m unexpected indent\n"
     ]
    }
   ],
   "source": [
    "# otra vez....   pero me da error xq no se indetation esta mal colocado \n",
    "\n",
    "class TiendaOnline:\n",
    "    def __init__(self):\n",
    "        self.inventario = []\n",
    "        self.clientes = {}\n",
    "        self.ventas_totales = 0.0\n",
    "\n",
    "inventario = {\"nombre\": \"Camisa\", \"precio\": 20, \"cantidad\": 50}, {\"nombre\": \"Pantalón\", \"precio\": 30, \"cantidad\": 30}, {\"nombre\": \"Zapatos\", \"precio\": 50, \"cantidad\": 40}, {\"nombre\": \"Camisa\", \"precio\": 20, \"cantidad\": 50}\n",
    "    \n",
    "    def ver_inventario(self,nombre, precio, cantidad):\n",
    "        for producto in self.inventario:                        #Se imprime el inventario   \n",
    "            print(f\"Nombre: {producto[\"nombre\"]}, Precio: {producto[\"precio\"]}, Cantidad: {producto[\"cantidad\"]}\")"
   ]
  },
  {
   "cell_type": "code",
   "execution_count": 114,
   "metadata": {},
   "outputs": [],
   "source": [
    "# NO ENTIENDO PERO SI LO AÑADO COMO METODO, NO DA ERROR.... EL VER INVENTARIO. ASI QUE CONTINUO \n",
    "\n",
    "\n",
    "\n",
    "class TiendaOnline:\n",
    "    def __init__(self):\n",
    "        self.inventario = []\n",
    "        self.clientes = {}\n",
    "        self.ventas_totales = 0.0\n",
    "\n",
    "    def agregar_producto(self, nombre, precio, cantidad):\n",
    "        # Buscar si el producto ya existe en el inventario\n",
    "        for producto in self.inventario:\n",
    "            if producto['nombre'] == nombre:\n",
    "                # Si el producto ya existe, actualizar la cantidad\n",
    "                producto['cantidad'] += cantidad\n",
    "                return\n",
    "\n",
    "        # Si el producto no existe, agregar uno nuevo al inventario\n",
    "        nuevo_producto = {\n",
    "            'nombre': nombre,\n",
    "            'precio': precio,\n",
    "            'cantidad': cantidad\n",
    "        }\n",
    "        self.inventario.append(nuevo_producto)\n",
    "\n"
   ]
  },
  {
   "cell_type": "code",
   "execution_count": 116,
   "metadata": {},
   "outputs": [
    {
     "ename": "IndentationError",
     "evalue": "unexpected indent (2167753244.py, line 4)",
     "output_type": "error",
     "traceback": [
      "\u001b[1;36m  Cell \u001b[1;32mIn[116], line 4\u001b[1;36m\u001b[0m\n\u001b[1;33m    def buscar_producto(self,nombre):\u001b[0m\n\u001b[1;37m    ^\u001b[0m\n\u001b[1;31mIndentationError\u001b[0m\u001b[1;31m:\u001b[0m unexpected indent\n"
     ]
    }
   ],
   "source": [
    "\n",
    "# 3. buscar producto  Nombre: Camisa, Precio: $20, Cantidad: 40\n",
    "\n",
    "\n",
    "    def buscar_producto(self,nombre):\n",
    "        for \"Camisa\" in self.inventario:\n",
    "            print(nombre)\n",
    "\n",
    " "
   ]
  },
  {
   "cell_type": "code",
   "execution_count": null,
   "metadata": {},
   "outputs": [],
   "source": [
    " "
   ]
  },
  {
   "cell_type": "code",
   "execution_count": null,
   "metadata": {},
   "outputs": [],
   "source": [
    "\n",
    "\n",
    "    def agregar_cliente(self, id_cliente, nombre, email):\n",
    "\n",
    "        if id_cliente in self.clientes:\n",
    "\n",
    "            print(f\"El cliente {id_cliente} ya existe\")\n",
    "\n",
    "        else:\n",
    "            nuevo_cliente= {id_cliente: [nombre, email]}"
   ]
  },
  {
   "cell_type": "code",
   "execution_count": 99,
   "metadata": {},
   "outputs": [
    {
     "ename": "SyntaxError",
     "evalue": "unterminated string literal (detected at line 12) (775118696.py, line 12)",
     "output_type": "error",
     "traceback": [
      "\u001b[1;36m  Cell \u001b[1;32mIn[99], line 12\u001b[1;36m\u001b[0m\n\u001b[1;33m    print(f\"El producto \"{nombre}' no está\")\u001b[0m\n\u001b[1;37m                                 ^\u001b[0m\n\u001b[1;31mSyntaxError\u001b[0m\u001b[1;31m:\u001b[0m unterminated string literal (detected at line 12)\n"
     ]
    }
   ],
   "source": [
    "def actualizar_stock(self, nombre, cantidad):\n",
    "        \n",
    "         \n",
    "        for producto in self.inventario:     # pasarlo a todo a minusculas\n",
    "            if producto[\"nombre\"].lower() == nombre.lower():\n",
    "                producto[\"cantidad\"] += cantidad     \n",
    "                if producto[\"cantidad\"] < 0:\n",
    "                    producto[\"cantidad\"] = 0\n",
    "                print(f\"Stock del producto \"{producto[\"nombre\"]}\" actualizado. Nueva cantidad: {producto[\"cantidad\"]}\")\n",
    "                return\n",
    "\n",
    "        print(f\"El producto \"{nombre}' no está\")"
   ]
  },
  {
   "cell_type": "markdown",
   "metadata": {},
   "source": [
    "\n",
    "        6. `calcular_valor_inventario(self)`: Calcula y muestra el valor total del inventario.\n",
    "\n",
    "            - Utiliza un bucle for para calcular el valor total del inventario.\n",
    "\n",
    "            - Itera a través del inventario y suma el valor de cada producto (precio x cantidad). Es decir, calcula el valor total del inventario. Ejemplo:\n",
    "\n",
    "                ```python\n",
    "                # si tenemos 5 camisas que valen 5 euros \n",
    "                # y 10 calcetines que valen 1 euro\n",
    "                # este método te tiene que devolver: 35 euros\n",
    "\n",
    "                valor_camisas = 5 * 5\n",
    "                valor_calcetines = 10 * 1\n",
    "\n",
    "                valor_camisas + valor_calcetines = 35"
   ]
  },
  {
   "cell_type": "code",
   "execution_count": null,
   "metadata": {},
   "outputs": [],
   "source": []
  },
  {
   "cell_type": "code",
   "execution_count": null,
   "metadata": {},
   "outputs": [],
   "source": []
  },
  {
   "cell_type": "code",
   "execution_count": null,
   "metadata": {},
   "outputs": [],
   "source": []
  },
  {
   "cell_type": "code",
   "execution_count": null,
   "metadata": {},
   "outputs": [],
   "source": []
  },
  {
   "cell_type": "code",
   "execution_count": null,
   "metadata": {},
   "outputs": [],
   "source": []
  },
  {
   "cell_type": "code",
   "execution_count": null,
   "metadata": {},
   "outputs": [],
   "source": []
  },
  {
   "cell_type": "code",
   "execution_count": null,
   "metadata": {},
   "outputs": [],
   "source": []
  },
  {
   "cell_type": "code",
   "execution_count": 49,
   "metadata": {},
   "outputs": [
    {
     "name": "stdout",
     "output_type": "stream",
     "text": [
      "({'nombre': 'Camisa', 'precio': 20, 'cantidad': 50}, {'nombre': 'Pantalón', 'precio': 30, 'cantidad': 30}, {'nombre': 'Zapatos', 'precio': 50, 'cantidad': 40}, {'nombre': 'Camisa', 'precio': 20, 'cantidad': 50})\n"
     ]
    }
   ],
   "source": [
    "# creo el dic. del inventario con los datos que hay en el enunciado  \n",
    "\n",
    "inventario =  {\"nombre\": \"Camisa\", \"precio\" :  20, \"cantidad\": 50}, {\"nombre\": \"Pantalón\", \"precio\": 30, \"cantidad\": 30}, {\"nombre\": \"Zapatos\", \"precio\": 50, \"cantidad\": 40}, {\"nombre\": \"Camisa\", \"precio\": 20, \"cantidad\": 50}\n",
    "\n",
    "print(inventario)\n"
   ]
  },
  {
   "cell_type": "markdown",
   "metadata": {},
   "source": []
  }
 ],
 "metadata": {
  "kernelspec": {
   "display_name": "Python 3",
   "language": "python",
   "name": "python3"
  },
  "language_info": {
   "codemirror_mode": {
    "name": "ipython",
    "version": 3
   },
   "file_extension": ".py",
   "mimetype": "text/x-python",
   "name": "python",
   "nbconvert_exporter": "python",
   "pygments_lexer": "ipython3",
   "version": "3.11.9"
  }
 },
 "nbformat": 4,
 "nbformat_minor": 2
}
